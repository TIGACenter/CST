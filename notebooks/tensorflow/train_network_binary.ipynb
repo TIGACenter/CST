{
 "cells": [
  {
   "cell_type": "code",
   "execution_count": 1,
   "id": "ab26068e",
   "metadata": {},
   "outputs": [],
   "source": [
    "import os\n",
    "import sys\n",
    "sys.path.append(\"..\")\n",
    "\n",
    "import tensorflow as tf\n",
    "\n",
    "import cst_model as cst\n",
    "import distortion_layers as ly\n",
    "import base_models as bm\n",
    "import callbacks as cb\n",
    "\n",
    "\n",
    "# tf.compat.v1.logging.set_verbosity(tf.compat.v1.logging.ERROR) "
   ]
  },
  {
   "cell_type": "code",
   "execution_count": 2,
   "id": "898dbdbf",
   "metadata": {},
   "outputs": [
    {
     "data": {
      "text/plain": [
       "'/main_dir/felipe/projects/CST/notebooks'"
      ]
     },
     "execution_count": 2,
     "metadata": {},
     "output_type": "execute_result"
    }
   ],
   "source": [
    "os.getcwd()"
   ]
  },
  {
   "cell_type": "markdown",
   "id": "8323eb6c",
   "metadata": {},
   "source": [
    "### Parameters\n"
   ]
  },
  {
   "cell_type": "code",
   "execution_count": 4,
   "id": "63768923",
   "metadata": {},
   "outputs": [],
   "source": [
    "# train_path = \"../data\"\n",
    "train_path = \"/main_dir/felipe/projects/cp_toolbox_data/artifacts_project/training_data/v4\"\n",
    "\n",
    "tile_size = 128\n",
    "batch_size = 32\n",
    "channels = 3\n",
    "# n_st_components = 2\n",
    "alpha = 2\n",
    "epochs = 10\n",
    "class_mode = \"binary\"\n",
    "\n",
    "validation_split = 0.2"
   ]
  },
  {
   "cell_type": "markdown",
   "id": "0eb51f97",
   "metadata": {},
   "source": [
    "### Create distortion layer"
   ]
  },
  {
   "cell_type": "code",
   "execution_count": 5,
   "id": "2ad8c7bb",
   "metadata": {
    "scrolled": true
   },
   "outputs": [
    {
     "name": "stderr",
     "output_type": "stream",
     "text": [
      "2023-07-05 16:32:10.465400: I tensorflow/stream_executor/cuda/cuda_gpu_executor.cc:936] successful NUMA node read from SysFS had negative value (-1), but there must be at least one NUMA node, so returning NUMA node zero\n",
      "2023-07-05 16:32:10.476803: I tensorflow/stream_executor/cuda/cuda_gpu_executor.cc:936] successful NUMA node read from SysFS had negative value (-1), but there must be at least one NUMA node, so returning NUMA node zero\n",
      "2023-07-05 16:32:10.477003: I tensorflow/stream_executor/cuda/cuda_gpu_executor.cc:936] successful NUMA node read from SysFS had negative value (-1), but there must be at least one NUMA node, so returning NUMA node zero\n",
      "2023-07-05 16:32:10.478180: I tensorflow/core/platform/cpu_feature_guard.cc:151] This TensorFlow binary is optimized with oneAPI Deep Neural Network Library (oneDNN) to use the following CPU instructions in performance-critical operations:  AVX2 FMA\n",
      "To enable them in other operations, rebuild TensorFlow with the appropriate compiler flags.\n",
      "2023-07-05 16:32:10.479760: I tensorflow/stream_executor/cuda/cuda_gpu_executor.cc:936] successful NUMA node read from SysFS had negative value (-1), but there must be at least one NUMA node, so returning NUMA node zero\n",
      "2023-07-05 16:32:10.479932: I tensorflow/stream_executor/cuda/cuda_gpu_executor.cc:936] successful NUMA node read from SysFS had negative value (-1), but there must be at least one NUMA node, so returning NUMA node zero\n",
      "2023-07-05 16:32:10.480036: I tensorflow/stream_executor/cuda/cuda_gpu_executor.cc:936] successful NUMA node read from SysFS had negative value (-1), but there must be at least one NUMA node, so returning NUMA node zero\n",
      "2023-07-05 16:32:10.749338: I tensorflow/stream_executor/cuda/cuda_gpu_executor.cc:936] successful NUMA node read from SysFS had negative value (-1), but there must be at least one NUMA node, so returning NUMA node zero\n",
      "2023-07-05 16:32:10.749437: I tensorflow/stream_executor/cuda/cuda_gpu_executor.cc:936] successful NUMA node read from SysFS had negative value (-1), but there must be at least one NUMA node, so returning NUMA node zero\n",
      "2023-07-05 16:32:10.749489: I tensorflow/stream_executor/cuda/cuda_gpu_executor.cc:936] successful NUMA node read from SysFS had negative value (-1), but there must be at least one NUMA node, so returning NUMA node zero\n",
      "2023-07-05 16:32:10.749546: I tensorflow/core/common_runtime/gpu/gpu_device.cc:1525] Created device /job:localhost/replica:0/task:0/device:GPU:0 with 6122 MB memory:  -> device: 0, name: NVIDIA GeForce RTX 3070, pci bus id: 0000:01:00.0, compute capability: 8.6\n"
     ]
    }
   ],
   "source": [
    "dcs = {\n",
    "    \"contrast\": {\"factor\": [0.2, 0.2]},\n",
    "    \"color\": {\"factor\": [20,0,20]},\n",
    "    \"blur\": {\"filter_shape\": 2, \"sigma\": 5.},  # kernel size is 'filter_shape * 2 + 1'\n",
    "    \"brightness\": {\"lower\": .85, \"upper\":1.15}\n",
    "}\n",
    "\n",
    "layers = [\n",
    "    ly.RandomColorByChannel(**dcs[\"color\"]), \n",
    "    tf.keras.layers.RandomContrast(**dcs[\"contrast\"]),\n",
    "    ly.RandomBrightness(**dcs[\"brightness\"]),\n",
    "    ly.RandomGaussianBlur(**dcs[\"blur\"]),\n",
    "    ly.BlueRedChannelSwapLayer(),\n",
    "]\n",
    "\n",
    "\n",
    "# dist_layer = [AdjSaturation(10),\n",
    "#               tf.keras.layers.Lambda(lambda x: x * 0. + 55)]\n",
    "\n",
    "dist_layer = layers\n",
    "\n"
   ]
  },
  {
   "cell_type": "markdown",
   "id": "52430c99",
   "metadata": {},
   "source": [
    "### Load images and assign parameters"
   ]
  },
  {
   "cell_type": "code",
   "execution_count": 6,
   "id": "62577f8f",
   "metadata": {},
   "outputs": [
    {
     "name": "stdout",
     "output_type": "stream",
     "text": [
      "Found 608896 images belonging to 4 classes.\n",
      "Found 152224 images belonging to 4 classes.\n"
     ]
    }
   ],
   "source": [
    "gen = tf.keras.preprocessing.image.ImageDataGenerator(\n",
    "    validation_split = validation_split\n",
    ")\n",
    "\n",
    "t_flow = gen.flow_from_directory(\n",
    "    directory=train_path,\n",
    "    target_size=(tile_size,tile_size),\n",
    "    color_mode='rgb',  # rgb for color\n",
    "    batch_size=batch_size,\n",
    "    class_mode=class_mode,  # 'sparse' for multiclass, 'binary' for binary \n",
    "    subset='training'\n",
    ")\n",
    "\n",
    "v_flow = gen.flow_from_directory(\n",
    "    directory=train_path,\n",
    "    target_size=(tile_size,tile_size),\n",
    "    color_mode=\"rgb\",  # rgb for color\n",
    "    batch_size=batch_size,\n",
    "    shuffle=False,\n",
    "    class_mode=class_mode,  # 'sparse' for multiclass, 'binary' for binary\n",
    "    subset='validation'\n",
    ")"
   ]
  },
  {
   "cell_type": "markdown",
   "id": "3aed8b4b",
   "metadata": {},
   "source": [
    "### Load and compile network"
   ]
  },
  {
   "cell_type": "code",
   "execution_count": 7,
   "id": "b0e67ab1",
   "metadata": {},
   "outputs": [],
   "source": [
    "if class_mode == \"binary\":\n",
    "    metrics = [\n",
    "        tf.keras.metrics.BinaryCrossentropy(name=\"bce\"),  # BinaryCrossentropy for binary\n",
    "        tf.keras.metrics.BinaryAccuracy(name=\"acc\")\n",
    "    ]\n",
    "    base_loss = tf.keras.losses.binary_crossentropy\n",
    "    final_layer_node = 1\n",
    "    binary = True\n",
    "    \n",
    "elif class_mode == \"sparse\":\n",
    "    metrics = [\n",
    "        tf.keras.metrics.SparseCategoricalCrossentropy(name=\"sce\"), \n",
    "        tf.keras.metrics.SparseCategoricalAccuracy(name=\"acc\")\n",
    "    ]\n",
    "    base_loss = tf.keras.losses.sparse_categorical_crossentropy\n",
    "    final_layer_node = t_flow.num_classes\n",
    "    binary = False\n",
    "\n",
    "elif class_mode == \"categorical\":\n",
    "    metrics = [\n",
    "        tf.keras.metrics.CategoricalCrossentropy(name=\"cce\"),\n",
    "        tf.keras.metrics.CategoricalAccuracy(name=\"acc\")\n",
    "    ]\n",
    "    base_loss = tf.keras.losses.categorical_crossentropy\n",
    "    final_layer_node = t_flow.num_classes\n",
    "    binary = False\n",
    "    \n",
    "else:\n",
    "    print(\"no class mode provided\")\n",
    "    \n",
    "    \n",
    "base_model = bm.create_thesis_model(tile_size=tile_size, channels=3, final_layer_node=final_layer_node)\n",
    "i = tf.keras.Input(shape=(tile_size, tile_size, channels))\n",
    "x_i = base_model(i)\n",
    "cst_model = cst.CSTModel(inputs=i, outputs=x_i, alpha=alpha, n_st_components=n_st_components, \n",
    "                         dist_layers=dist_layer, binary=binary)\n",
    "\n",
    "\n",
    "cst_model.compile(\n",
    "    optimizer = tf.keras.optimizers.Adam(learning_rate=1e-3, amsgrad=True),\n",
    "    loss = base_loss,\n",
    "    metrics = metrics \n",
    ")\n"
   ]
  },
  {
   "cell_type": "markdown",
   "id": "546e1c22",
   "metadata": {},
   "source": [
    "### Train network"
   ]
  },
  {
   "cell_type": "code",
   "execution_count": 8,
   "id": "7d20f0ab",
   "metadata": {
    "scrolled": false
   },
   "outputs": [
    {
     "name": "stdout",
     "output_type": "stream",
     "text": [
      "Epoch 1/10\n"
     ]
    },
    {
     "name": "stderr",
     "output_type": "stream",
     "text": [
      "2023-07-05 16:32:38.320830: I tensorflow/stream_executor/cuda/cuda_dnn.cc:368] Loaded cuDNN version 8100\n",
      "2023-07-05 16:32:39.296516: I tensorflow/stream_executor/cuda/cuda_blas.cc:1786] TensorFloat-32 will be used for the matrix multiplication. This will only be logged once.\n"
     ]
    },
    {
     "name": "stdout",
     "output_type": "stream",
     "text": [
      "19028/19028 [==============================] - 5261s 276ms/step - loss_0: 0.2663 - cst_metric: 0.3657 - sce_: 0.3069 - acc_: 0.8875 - sce_0: 0.3198 - acc_0: 0.8818 - sce_1: 0.3071 - acc_1: 0.8876 - sce_2: 0.3155 - acc_2: 0.8840 - sce_3: 0.3242 - acc_3: 0.8792 - sce_4: 0.3196 - acc_4: 0.8800 - val_sce: 0.1989 - val_acc: 0.9302\n",
      "Epoch 2/10\n",
      "19028/19028 [==============================] - 5245s 276ms/step - loss_0: 0.1126 - cst_metric: 0.1217 - sce_: 0.1874 - acc_: 0.9348 - sce_0: 0.1976 - acc_0: 0.9301 - sce_1: 0.1863 - acc_1: 0.9347 - sce_2: 0.1939 - acc_2: 0.9317 - sce_3: 0.2043 - acc_3: 0.9271 - sce_4: 0.1948 - acc_4: 0.9306 - val_sce: 0.1719 - val_acc: 0.9405\n",
      "Epoch 3/10\n",
      "19028/19028 [==============================] - 5238s 275ms/step - loss_0: 0.0912 - cst_metric: 0.0971 - sce_: 0.1651 - acc_: 0.9430 - sce_0: 0.1631 - acc_0: 0.9426 - sce_1: 0.1535 - acc_1: 0.9466 - sce_2: 0.1605 - acc_2: 0.9438 - sce_3: 0.1710 - acc_3: 0.9392 - sce_4: 0.1605 - acc_4: 0.9432 - val_sce: 0.1560 - val_acc: 0.9463\n",
      "Epoch 4/10\n",
      "19028/19028 [==============================] - 5238s 275ms/step - loss_0: 0.0795 - cst_metric: 0.0835 - sce_: 0.1525 - acc_: 0.9474 - sce_0: 0.1437 - acc_0: 0.9496 - sce_1: 0.1351 - acc_1: 0.9530 - sce_2: 0.1417 - acc_2: 0.9506 - sce_3: 0.1522 - acc_3: 0.9462 - sce_4: 0.1413 - acc_4: 0.9502 - val_sce: 0.1473 - val_acc: 0.9493\n",
      "Epoch 5/10\n",
      "19028/19028 [==============================] - 5237s 275ms/step - loss_0: 0.0703 - cst_metric: 0.0743 - sce_: 0.1443 - acc_: 0.9503 - sce_0: 0.1306 - acc_0: 0.9539 - sce_1: 0.1228 - acc_1: 0.9574 - sce_2: 0.1290 - acc_2: 0.9547 - sce_3: 0.1394 - acc_3: 0.9510 - sce_4: 0.1284 - acc_4: 0.9545 - val_sce: 0.1399 - val_acc: 0.9516\n",
      "Epoch 6/10\n",
      "19028/19028 [==============================] - 5237s 275ms/step - loss_0: 0.0638 - cst_metric: 0.0667 - sce_: 0.1376 - acc_: 0.9523 - sce_0: 0.1210 - acc_0: 0.9576 - sce_1: 0.1138 - acc_1: 0.9609 - sce_2: 0.1197 - acc_2: 0.9582 - sce_3: 0.1299 - acc_3: 0.9543 - sce_4: 0.1190 - acc_4: 0.9583 - val_sce: 0.1341 - val_acc: 0.9535\n",
      "Epoch 7/10\n",
      "19028/19028 [==============================] - 5231s 275ms/step - loss_0: 0.0603 - cst_metric: 0.0631 - sce_: 0.1322 - acc_: 0.9544 - sce_0: 0.1134 - acc_0: 0.9605 - sce_1: 0.1067 - acc_1: 0.9633 - sce_2: 0.1124 - acc_2: 0.9610 - sce_3: 0.1224 - acc_3: 0.9565 - sce_4: 0.1115 - acc_4: 0.9611 - val_sce: 0.1295 - val_acc: 0.9557\n",
      "Epoch 8/10\n",
      "19028/19028 [==============================] - 5235s 275ms/step - loss_0: 0.0563 - cst_metric: 0.0593 - sce_: 0.1280 - acc_: 0.9564 - sce_0: 0.1073 - acc_0: 0.9630 - sce_1: 0.1009 - acc_1: 0.9654 - sce_2: 0.1064 - acc_2: 0.9635 - sce_3: 0.1162 - acc_3: 0.9586 - sce_4: 0.1055 - acc_4: 0.9635 - val_sce: 0.1258 - val_acc: 0.9573\n",
      "Epoch 9/10\n",
      "19028/19028 [==============================] - 5236s 275ms/step - loss_0: 0.0525 - cst_metric: 0.0551 - sce_: 0.1244 - acc_: 0.9578 - sce_0: 0.1021 - acc_0: 0.9655 - sce_1: 0.0961 - acc_1: 0.9677 - sce_2: 0.1014 - acc_2: 0.9659 - sce_3: 0.1111 - acc_3: 0.9598 - sce_4: 0.1005 - acc_4: 0.9660 - val_sce: 0.1225 - val_acc: 0.9586\n",
      "Epoch 10/10\n",
      "19028/19028 [==============================] - 5235s 275ms/step - loss_0: 0.0498 - cst_metric: 0.0515 - sce_: 0.1212 - acc_: 0.9590 - sce_0: 0.0977 - acc_0: 0.9675 - sce_1: 0.0919 - acc_1: 0.9694 - sce_2: 0.0971 - acc_2: 0.9679 - sce_3: 0.1066 - acc_3: 0.9607 - sce_4: 0.0962 - acc_4: 0.9679 - val_sce: 0.1194 - val_acc: 0.9596\n"
     ]
    },
    {
     "data": {
      "text/plain": [
       "<keras.callbacks.History at 0x7fa0d664cdc0>"
      ]
     },
     "execution_count": 8,
     "metadata": {},
     "output_type": "execute_result"
    }
   ],
   "source": [
    "\n",
    "cst_model.run_eagerly = False\n",
    "\n",
    "cst_model.fit(\n",
    "    x=t_flow,\n",
    "    validation_data=v_flow,\n",
    "    epochs=epochs,\n",
    "    class_weight=bm.get_class_weights(t_flow.classes)\n",
    ")"
   ]
  },
  {
   "cell_type": "code",
   "execution_count": null,
   "id": "337d8356",
   "metadata": {},
   "outputs": [],
   "source": []
  },
  {
   "cell_type": "code",
   "execution_count": null,
   "id": "4d6a595f",
   "metadata": {},
   "outputs": [],
   "source": []
  },
  {
   "cell_type": "code",
   "execution_count": null,
   "id": "5f4e13a5",
   "metadata": {},
   "outputs": [],
   "source": []
  }
 ],
 "metadata": {
  "kernelspec": {
   "display_name": "Python 3 (ipykernel)",
   "language": "python",
   "name": "python3"
  },
  "language_info": {
   "codemirror_mode": {
    "name": "ipython",
    "version": 3
   },
   "file_extension": ".py",
   "mimetype": "text/x-python",
   "name": "python",
   "nbconvert_exporter": "python",
   "pygments_lexer": "ipython3",
   "version": "3.8.10"
  }
 },
 "nbformat": 4,
 "nbformat_minor": 5
}
