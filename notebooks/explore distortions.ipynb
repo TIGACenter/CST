{
 "cells": [
  {
   "cell_type": "code",
   "execution_count": 1,
   "metadata": {},
   "outputs": [],
   "source": [
    "import os\n",
    "import sys\n",
    "sys.path.append(\"..\")\n",
    "\n",
    "import tensorflow as tf\n",
    "import numpy as np\n",
    "import matplotlib.pyplot as plt\n",
    "\n",
    "import distortion_layers as ly\n",
    "\n",
    "# tf.compat.v1.logging.set_verbosity(tf.compat.v1.logging.ERROR) # ignores warnings"
   ]
  },
  {
   "cell_type": "markdown",
   "metadata": {},
   "source": [
    "### Create distortion layers"
   ]
  },
  {
   "cell_type": "code",
   "execution_count": 2,
   "metadata": {
    "scrolled": true
   },
   "outputs": [
    {
     "name": "stderr",
     "output_type": "stream",
     "text": [
      "2022-06-27 16:37:02.747987: I tensorflow/stream_executor/cuda/cuda_gpu_executor.cc:936] successful NUMA node read from SysFS had negative value (-1), but there must be at least one NUMA node, so returning NUMA node zero\n",
      "2022-06-27 16:37:02.754055: I tensorflow/stream_executor/cuda/cuda_gpu_executor.cc:936] successful NUMA node read from SysFS had negative value (-1), but there must be at least one NUMA node, so returning NUMA node zero\n",
      "2022-06-27 16:37:02.754507: I tensorflow/stream_executor/cuda/cuda_gpu_executor.cc:936] successful NUMA node read from SysFS had negative value (-1), but there must be at least one NUMA node, so returning NUMA node zero\n",
      "2022-06-27 16:37:02.755147: I tensorflow/core/platform/cpu_feature_guard.cc:151] This TensorFlow binary is optimized with oneAPI Deep Neural Network Library (oneDNN) to use the following CPU instructions in performance-critical operations:  AVX2 FMA\n",
      "To enable them in other operations, rebuild TensorFlow with the appropriate compiler flags.\n",
      "2022-06-27 16:37:02.755619: I tensorflow/stream_executor/cuda/cuda_gpu_executor.cc:936] successful NUMA node read from SysFS had negative value (-1), but there must be at least one NUMA node, so returning NUMA node zero\n",
      "2022-06-27 16:37:02.756049: I tensorflow/stream_executor/cuda/cuda_gpu_executor.cc:936] successful NUMA node read from SysFS had negative value (-1), but there must be at least one NUMA node, so returning NUMA node zero\n",
      "2022-06-27 16:37:02.756407: I tensorflow/stream_executor/cuda/cuda_gpu_executor.cc:936] successful NUMA node read from SysFS had negative value (-1), but there must be at least one NUMA node, so returning NUMA node zero\n",
      "2022-06-27 16:37:03.199032: I tensorflow/stream_executor/cuda/cuda_gpu_executor.cc:936] successful NUMA node read from SysFS had negative value (-1), but there must be at least one NUMA node, so returning NUMA node zero\n",
      "2022-06-27 16:37:03.199455: I tensorflow/stream_executor/cuda/cuda_gpu_executor.cc:936] successful NUMA node read from SysFS had negative value (-1), but there must be at least one NUMA node, so returning NUMA node zero\n",
      "2022-06-27 16:37:03.199815: I tensorflow/stream_executor/cuda/cuda_gpu_executor.cc:936] successful NUMA node read from SysFS had negative value (-1), but there must be at least one NUMA node, so returning NUMA node zero\n",
      "2022-06-27 16:37:03.200147: I tensorflow/core/common_runtime/gpu/gpu_device.cc:1525] Created device /job:localhost/replica:0/task:0/device:GPU:0 with 6981 MB memory:  -> device: 0, name: NVIDIA GeForce GTX 1070, pci bus id: 0000:01:00.0, compute capability: 6.1\n"
     ]
    },
    {
     "ename": "AttributeError",
     "evalue": "module 'keras.api._v2.keras.layers' has no attribute 'RandomBrightness'",
     "output_type": "error",
     "traceback": [
      "\u001b[0;31m---------------------------------------------------------------------------\u001b[0m",
      "\u001b[0;31mAttributeError\u001b[0m                            Traceback (most recent call last)",
      "Input \u001b[0;32mIn [2]\u001b[0m, in \u001b[0;36m<cell line: 39>\u001b[0;34m()\u001b[0m\n\u001b[1;32m      1\u001b[0m dcs \u001b[38;5;241m=\u001b[39m {\n\u001b[1;32m      2\u001b[0m \u001b[38;5;66;03m#     1:{\u001b[39;00m\n\u001b[1;32m      3\u001b[0m \u001b[38;5;66;03m#         \"contrast\": {\"factor\": [0.2, 0.2]},\u001b[39;00m\n\u001b[0;32m   (...)\u001b[0m\n\u001b[1;32m     35\u001b[0m     }\n\u001b[1;32m     36\u001b[0m }\n\u001b[0;32m---> 39\u001b[0m layers \u001b[38;5;241m=\u001b[39m [\n\u001b[1;32m     40\u001b[0m     ly\u001b[38;5;241m.\u001b[39mDistortionLayer(layers\u001b[38;5;241m=\u001b[39m[\n\u001b[1;32m     41\u001b[0m         ly\u001b[38;5;241m.\u001b[39mRandomColorByChannel(\u001b[38;5;241m*\u001b[39m\u001b[38;5;241m*\u001b[39mdcs[i][\u001b[38;5;124m\"\u001b[39m\u001b[38;5;124mcolor\u001b[39m\u001b[38;5;124m\"\u001b[39m]), \n\u001b[1;32m     42\u001b[0m         tf\u001b[38;5;241m.\u001b[39mkeras\u001b[38;5;241m.\u001b[39mlayers\u001b[38;5;241m.\u001b[39mRandomContrast(\u001b[38;5;241m*\u001b[39m\u001b[38;5;241m*\u001b[39mdcs[i][\u001b[38;5;124m\"\u001b[39m\u001b[38;5;124mcontrast\u001b[39m\u001b[38;5;124m\"\u001b[39m]),\n\u001b[1;32m     43\u001b[0m \u001b[38;5;66;03m#         ly.RandomBrightness(**dcs[i][\"brightness\"]),\u001b[39;00m\n\u001b[1;32m     44\u001b[0m         tf\u001b[38;5;241m.\u001b[39mkeras\u001b[38;5;241m.\u001b[39mlayers\u001b[38;5;241m.\u001b[39mRandomBrightness(\u001b[38;5;241m*\u001b[39m\u001b[38;5;241m*\u001b[39mdcs[i][\u001b[38;5;124m\"\u001b[39m\u001b[38;5;124mbrightness\u001b[39m\u001b[38;5;124m\"\u001b[39m]),\n\u001b[1;32m     45\u001b[0m         ly\u001b[38;5;241m.\u001b[39mRandomGaussianBlur(\u001b[38;5;241m*\u001b[39m\u001b[38;5;241m*\u001b[39mdcs[i][\u001b[38;5;124m\"\u001b[39m\u001b[38;5;124mblur\u001b[39m\u001b[38;5;124m\"\u001b[39m])])\n\u001b[1;32m     46\u001b[0m     \u001b[38;5;28;01mfor\u001b[39;00m i \u001b[38;5;129;01min\u001b[39;00m dcs\n\u001b[1;32m     47\u001b[0m ]\n",
      "Input \u001b[0;32mIn [2]\u001b[0m, in \u001b[0;36m<listcomp>\u001b[0;34m(.0)\u001b[0m\n\u001b[1;32m      1\u001b[0m dcs \u001b[38;5;241m=\u001b[39m {\n\u001b[1;32m      2\u001b[0m \u001b[38;5;66;03m#     1:{\u001b[39;00m\n\u001b[1;32m      3\u001b[0m \u001b[38;5;66;03m#         \"contrast\": {\"factor\": [0.2, 0.2]},\u001b[39;00m\n\u001b[0;32m   (...)\u001b[0m\n\u001b[1;32m     35\u001b[0m     }\n\u001b[1;32m     36\u001b[0m }\n\u001b[1;32m     39\u001b[0m layers \u001b[38;5;241m=\u001b[39m [\n\u001b[1;32m     40\u001b[0m     ly\u001b[38;5;241m.\u001b[39mDistortionLayer(layers\u001b[38;5;241m=\u001b[39m[\n\u001b[1;32m     41\u001b[0m         ly\u001b[38;5;241m.\u001b[39mRandomColorByChannel(\u001b[38;5;241m*\u001b[39m\u001b[38;5;241m*\u001b[39mdcs[i][\u001b[38;5;124m\"\u001b[39m\u001b[38;5;124mcolor\u001b[39m\u001b[38;5;124m\"\u001b[39m]), \n\u001b[1;32m     42\u001b[0m         tf\u001b[38;5;241m.\u001b[39mkeras\u001b[38;5;241m.\u001b[39mlayers\u001b[38;5;241m.\u001b[39mRandomContrast(\u001b[38;5;241m*\u001b[39m\u001b[38;5;241m*\u001b[39mdcs[i][\u001b[38;5;124m\"\u001b[39m\u001b[38;5;124mcontrast\u001b[39m\u001b[38;5;124m\"\u001b[39m]),\n\u001b[1;32m     43\u001b[0m \u001b[38;5;66;03m#         ly.RandomBrightness(**dcs[i][\"brightness\"]),\u001b[39;00m\n\u001b[0;32m---> 44\u001b[0m         \u001b[43mtf\u001b[49m\u001b[38;5;241;43m.\u001b[39;49m\u001b[43mkeras\u001b[49m\u001b[38;5;241;43m.\u001b[39;49m\u001b[43mlayers\u001b[49m\u001b[38;5;241;43m.\u001b[39;49m\u001b[43mRandomBrightness\u001b[49m(\u001b[38;5;241m*\u001b[39m\u001b[38;5;241m*\u001b[39mdcs[i][\u001b[38;5;124m\"\u001b[39m\u001b[38;5;124mbrightness\u001b[39m\u001b[38;5;124m\"\u001b[39m]),\n\u001b[1;32m     45\u001b[0m         ly\u001b[38;5;241m.\u001b[39mRandomGaussianBlur(\u001b[38;5;241m*\u001b[39m\u001b[38;5;241m*\u001b[39mdcs[i][\u001b[38;5;124m\"\u001b[39m\u001b[38;5;124mblur\u001b[39m\u001b[38;5;124m\"\u001b[39m])])\n\u001b[1;32m     46\u001b[0m     \u001b[38;5;28;01mfor\u001b[39;00m i \u001b[38;5;129;01min\u001b[39;00m dcs\n\u001b[1;32m     47\u001b[0m ]\n",
      "\u001b[0;31mAttributeError\u001b[0m: module 'keras.api._v2.keras.layers' has no attribute 'RandomBrightness'"
     ]
    }
   ],
   "source": [
    "dcs = {\n",
    "#     1:{\n",
    "#         \"contrast\": {\"factor\": [0.2, 0.2]},\n",
    "#         \"color\": {\"factor\": [5,0,5]},\n",
    "#         \"blur\": {\"filter_shape\": 1, \"sigma\": 0.},  # kernel size is 'filter_shape * 2 + 1'\n",
    "#         \"brightness\": {\"factor\": 0.3}\n",
    "#     },\n",
    "    1:{\n",
    "        \"contrast\": {\"factor\": [0.3, 0.3]},\n",
    "        \"color\": {\"factor\": [5,0,5]},\n",
    "        \"blur\": {\"filter_shape\": 4, \"sigma\": 0.},  # kernel size is 'filter_shape * 2 + 1'\n",
    "        \"brightness\": {\"factor\": 0.3}\n",
    "#         \"brightness\": {\"lower\":1.2999, \"upper\":1.3}\n",
    "    },\n",
    "    2:{\n",
    "        \"contrast\": {\"factor\": [0.3, 0.3]},\n",
    "        \"color\": {\"factor\": [5,0,5]},\n",
    "        \"blur\": {\"filter_shape\": 2, \"sigma\": 1.},\n",
    "        \"brightness\": {\"factor\": 0.3}\n",
    "#         \"brightness\": {\"lower\":0.7, \"upper\":1.3}\n",
    "    },\n",
    "    3:{\n",
    "        \"contrast\": {\"factor\": [0.4, 0.6]},\n",
    "        \"color\": {\"factor\": [20,0,20]},\n",
    "        \"blur\": {\"filter_shape\": 2, \"sigma\": 5.},\n",
    "        \"brightness\": {\"factor\": 0.5}\n",
    "#         \"brightness\": {\"lower\":0.7, \"upper\":1.3}\n",
    "    },\n",
    "    4:{\n",
    "        \"contrast\": {\"factor\": [0.4, 0.6]},\n",
    "        \"color\": {\"factor\": [20,20,20]},\n",
    "        \"blur\": {\"filter_shape\": 4, \"sigma\": 5.},\n",
    "        \"brightness\": {\"factor\": 0.5}\n",
    "#         \"brightness\": {\"lower\":0.7, \"upper\":1.3}\n",
    "    }\n",
    "}\n",
    "\n",
    "\n",
    "layers = [\n",
    "    ly.DistortionLayer(layers=[\n",
    "        ly.RandomColorByChannel(**dcs[i][\"color\"]), \n",
    "        tf.keras.layers.RandomContrast(**dcs[i][\"contrast\"]),\n",
    "#         ly.RandomBrightness(**dcs[i][\"brightness\"]),\n",
    "        tf.keras.layers.RandomBrightness(**dcs[i][\"brightness\"]),\n",
    "        ly.RandomGaussianBlur(**dcs[i][\"blur\"])])\n",
    "    for i in dcs\n",
    "]\n"
   ]
  },
  {
   "cell_type": "markdown",
   "metadata": {},
   "source": [
    "### Load images\n",
    "\n",
    "#### Option 1: own data set\n",
    "If the notebook is ran from Docker and an absolute path wants to be provided for the train_path, make sure that the path corresponds to the docker path based on the volume used with docker run.\n",
    "\n",
    "Otherwise, just load the data into the data folder"
   ]
  },
  {
   "cell_type": "code",
   "execution_count": null,
   "metadata": {},
   "outputs": [],
   "source": [
    "data_path = \"../data\"\n",
    "tile_size = 128\n",
    "batch_size = 20\n",
    "\n",
    "gen = tf.keras.preprocessing.image.ImageDataGenerator(\n",
    "    validation_split = 0.2\n",
    ")\n",
    "flow = gen.flow_from_directory(\n",
    "    directory=data_path,\n",
    "    target_size=(tile_size,tile_size),\n",
    "    color_mode='rgb',  # 'rgb' or 'grayscale' \n",
    "    batch_size=batch_size,\n",
    ")\n"
   ]
  },
  {
   "cell_type": "code",
   "execution_count": null,
   "metadata": {},
   "outputs": [],
   "source": [
    "def visualize_augmentations(num_images):\n",
    "    # Sample a batch from a dataset\n",
    "    batch = next(iter(flow))\n",
    "    if type(batch) == tuple:\n",
    "        images = batch[0][:num_images]\n",
    "    else:\n",
    "        images = batch[:num_images]\n",
    "    # Apply augmentations\n",
    "    augmented_images = zip(\n",
    "        images.astype(int),\n",
    "        layers[0](images).numpy().astype(int),\n",
    "        layers[0](images).numpy().astype(int),\n",
    "        layers[1](images).numpy().astype(int),\n",
    "        layers[1](images).numpy().astype(int),\n",
    "        layers[2](images).numpy().astype(int),\n",
    "        layers[2](images).numpy().astype(int),\n",
    "        layers[3](images).numpy().astype(int),\n",
    "        layers[3](images).numpy().astype(int),\n",
    "    )\n",
    "    row_titles = [\n",
    "        \"Original:\",\n",
    "        \"DC1:\",\n",
    "        \"DC1:\",\n",
    "        \"DC2:\",\n",
    "        \"DC2:\",\n",
    "        \"DC3:\",\n",
    "        \"DC3:\",\n",
    "        \"DC4:\",\n",
    "        \"DC4:\",\n",
    "    ]\n",
    "    plt.figure(figsize=(num_images * 2.2, 9 * 2.2), dpi=100)\n",
    "    for column, image_row in enumerate(augmented_images):\n",
    "        for row, image in enumerate(image_row):\n",
    "            plt.subplot(9, num_images, row * num_images + column + 1)\n",
    "            plt.imshow(image)\n",
    "            if column == 0:\n",
    "                plt.title(row_titles[row], loc=\"left\")\n",
    "            plt.axis(\"off\")\n",
    "    plt.tight_layout()\n",
    "\n",
    "\n",
    "visualize_augmentations(num_images=8)"
   ]
  },
  {
   "cell_type": "markdown",
   "metadata": {},
   "source": [
    "#### Option 2: try it on cifar"
   ]
  }
 ],
 "metadata": {
  "kernelspec": {
   "display_name": "Python 3",
   "language": "python",
   "name": "python3"
  },
  "language_info": {
   "codemirror_mode": {
    "name": "ipython",
    "version": 2
   },
   "file_extension": ".py",
   "mimetype": "text/x-python",
   "name": "python",
   "nbconvert_exporter": "python",
   "pygments_lexer": "ipython2",
   "version": "2.7.12"
  }
 },
 "nbformat": 4,
 "nbformat_minor": 5
}
