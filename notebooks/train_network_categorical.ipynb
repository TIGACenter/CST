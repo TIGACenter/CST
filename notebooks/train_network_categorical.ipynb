{
 "cells": [
  {
   "cell_type": "code",
   "execution_count": 1,
   "id": "ab26068e",
   "metadata": {
    "scrolled": true
   },
   "outputs": [],
   "source": [
    "import os\n",
    "import sys\n",
    "sys.path.append(\"..\")\n",
    "\n",
    "import tensorflow as tf\n",
    "\n",
    "import cst_model as cst\n",
    "import distortion_layers as ly\n",
    "import base_models as bm\n",
    "import callbacks as cb\n",
    "\n",
    "# tf.compat.v1.logging.set_verbosity(tf.compat.v1.logging.ERROR) "
   ]
  },
  {
   "cell_type": "code",
   "execution_count": 2,
   "id": "898dbdbf",
   "metadata": {},
   "outputs": [
    {
     "data": {
      "text/plain": [
       "'/main_dir/felipe/projects/CST/notebooks'"
      ]
     },
     "execution_count": 2,
     "metadata": {},
     "output_type": "execute_result"
    }
   ],
   "source": [
    "os.getcwd()"
   ]
  },
  {
   "cell_type": "markdown",
   "id": "8323eb6c",
   "metadata": {},
   "source": [
    "### Parameters\n"
   ]
  },
  {
   "cell_type": "code",
   "execution_count": 3,
   "id": "63768923",
   "metadata": {},
   "outputs": [],
   "source": [
    "# train_path = \"../data\"\n",
    "train_path = \"/main_dir/felipe/projects/cp_toolbox_data/artifacts_project/training_data/v4\"\n",
    "# train_path = \"/main_dir/felipe/projects/cp_toolbox_data/tiles\"\n",
    "model_path = \"../models\"\n",
    "model_base_name = \"artifact_classifier_multiCST_teststep_metrics\"\n",
    "\n",
    "\n",
    "tile_size = 128\n",
    "batch_size = 32\n",
    "channels = 3\n",
    "n_st_components = 2\n",
    "alpha = 2\n",
    "epochs = 10\n",
    "class_mode = \"sparse\"\n",
    "\n",
    "validation_split = 0.2"
   ]
  },
  {
   "cell_type": "markdown",
   "id": "11e0fb1e",
   "metadata": {},
   "source": [
    "### Load dataset"
   ]
  },
  {
   "cell_type": "code",
   "execution_count": 4,
   "id": "531c76b9",
   "metadata": {},
   "outputs": [],
   "source": [
    "# TODO"
   ]
  },
  {
   "cell_type": "code",
   "execution_count": null,
   "id": "f2cd0d46",
   "metadata": {},
   "outputs": [],
   "source": []
  },
  {
   "cell_type": "code",
   "execution_count": null,
   "id": "947f2cf5",
   "metadata": {},
   "outputs": [],
   "source": []
  },
  {
   "cell_type": "code",
   "execution_count": null,
   "id": "f63e23be",
   "metadata": {},
   "outputs": [],
   "source": []
  },
  {
   "cell_type": "code",
   "execution_count": null,
   "id": "7cffad48",
   "metadata": {},
   "outputs": [],
   "source": []
  },
  {
   "cell_type": "code",
   "execution_count": null,
   "id": "84230ce2",
   "metadata": {},
   "outputs": [],
   "source": []
  },
  {
   "cell_type": "code",
   "execution_count": null,
   "id": "9bcceeea",
   "metadata": {},
   "outputs": [],
   "source": []
  },
  {
   "cell_type": "code",
   "execution_count": null,
   "id": "0360921c",
   "metadata": {},
   "outputs": [],
   "source": []
  },
  {
   "cell_type": "markdown",
   "id": "0eb51f97",
   "metadata": {},
   "source": [
    "### Create distortion layer"
   ]
  },
  {
   "cell_type": "code",
   "execution_count": 5,
   "id": "2ad8c7bb",
   "metadata": {
    "scrolled": true
   },
   "outputs": [
    {
     "name": "stderr",
     "output_type": "stream",
     "text": [
      "2023-07-06 15:27:01.489330: I tensorflow/stream_executor/cuda/cuda_gpu_executor.cc:936] successful NUMA node read from SysFS had negative value (-1), but there must be at least one NUMA node, so returning NUMA node zero\n",
      "2023-07-06 15:27:01.500237: I tensorflow/stream_executor/cuda/cuda_gpu_executor.cc:936] successful NUMA node read from SysFS had negative value (-1), but there must be at least one NUMA node, so returning NUMA node zero\n",
      "2023-07-06 15:27:01.500415: I tensorflow/stream_executor/cuda/cuda_gpu_executor.cc:936] successful NUMA node read from SysFS had negative value (-1), but there must be at least one NUMA node, so returning NUMA node zero\n",
      "2023-07-06 15:27:01.500858: I tensorflow/core/platform/cpu_feature_guard.cc:151] This TensorFlow binary is optimized with oneAPI Deep Neural Network Library (oneDNN) to use the following CPU instructions in performance-critical operations:  AVX2 FMA\n",
      "To enable them in other operations, rebuild TensorFlow with the appropriate compiler flags.\n",
      "2023-07-06 15:27:01.502031: I tensorflow/stream_executor/cuda/cuda_gpu_executor.cc:936] successful NUMA node read from SysFS had negative value (-1), but there must be at least one NUMA node, so returning NUMA node zero\n",
      "2023-07-06 15:27:01.502182: I tensorflow/stream_executor/cuda/cuda_gpu_executor.cc:936] successful NUMA node read from SysFS had negative value (-1), but there must be at least one NUMA node, so returning NUMA node zero\n",
      "2023-07-06 15:27:01.502266: I tensorflow/stream_executor/cuda/cuda_gpu_executor.cc:936] successful NUMA node read from SysFS had negative value (-1), but there must be at least one NUMA node, so returning NUMA node zero\n",
      "2023-07-06 15:27:01.785669: I tensorflow/stream_executor/cuda/cuda_gpu_executor.cc:936] successful NUMA node read from SysFS had negative value (-1), but there must be at least one NUMA node, so returning NUMA node zero\n",
      "2023-07-06 15:27:01.785771: I tensorflow/stream_executor/cuda/cuda_gpu_executor.cc:936] successful NUMA node read from SysFS had negative value (-1), but there must be at least one NUMA node, so returning NUMA node zero\n",
      "2023-07-06 15:27:01.785823: I tensorflow/stream_executor/cuda/cuda_gpu_executor.cc:936] successful NUMA node read from SysFS had negative value (-1), but there must be at least one NUMA node, so returning NUMA node zero\n",
      "2023-07-06 15:27:01.785880: I tensorflow/core/common_runtime/gpu/gpu_device.cc:1525] Created device /job:localhost/replica:0/task:0/device:GPU:0 with 6122 MB memory:  -> device: 0, name: NVIDIA GeForce RTX 3070, pci bus id: 0000:01:00.0, compute capability: 8.6\n"
     ]
    }
   ],
   "source": [
    "dcs = {\n",
    "    \"contrast\": {\"factor\": [0.2, 0.2]},\n",
    "    \"color\": {\"factor\": [20,0,20]},\n",
    "    \"blur\": {\"filter_shape\": 2, \"sigma\": 5.},  # kernel size is 'filter_shape * 2 + 1'\n",
    "    \"brightness\": {\"lower\": .85, \"upper\":1.15}\n",
    "}\n",
    "\n",
    "layers = [\n",
    "    ly.RandomColorByChannel(**dcs[\"color\"]), \n",
    "    tf.keras.layers.RandomContrast(**dcs[\"contrast\"]),\n",
    "    ly.RandomBrightness(**dcs[\"brightness\"]),\n",
    "    ly.RandomGaussianBlur(**dcs[\"blur\"]),\n",
    "    ly.BlueRedChannelSwapLayer(),\n",
    "]\n",
    "\n",
    "\n",
    "# dist_layer = [AdjSaturation(10),\n",
    "#               tf.keras.layers.Lambda(lambda x: x * 0. + 55)]\n",
    "\n",
    "dist_layer = layers\n",
    "\n"
   ]
  },
  {
   "cell_type": "markdown",
   "id": "52430c99",
   "metadata": {},
   "source": [
    "### Load images and assign parameters"
   ]
  },
  {
   "cell_type": "code",
   "execution_count": 6,
   "id": "62577f8f",
   "metadata": {},
   "outputs": [
    {
     "name": "stdout",
     "output_type": "stream",
     "text": [
      "Found 608896 images belonging to 4 classes.\n",
      "Found 152224 images belonging to 4 classes.\n"
     ]
    }
   ],
   "source": [
    "gen = tf.keras.preprocessing.image.ImageDataGenerator(\n",
    "    validation_split = validation_split\n",
    ")\n",
    "\n",
    "t_flow = gen.flow_from_directory(\n",
    "    directory=train_path,\n",
    "    target_size=(tile_size,tile_size),\n",
    "    color_mode='rgb',  # rgb for color\n",
    "    batch_size=batch_size,\n",
    "    class_mode=class_mode,  # 'sparse' for multiclass, 'binary' for binary \n",
    "    subset='training'\n",
    ")\n",
    "\n",
    "v_flow = gen.flow_from_directory(\n",
    "    directory=train_path,\n",
    "    target_size=(tile_size,tile_size),\n",
    "    color_mode=\"rgb\",  # rgb for color\n",
    "    batch_size=batch_size,\n",
    "    shuffle=False,\n",
    "    class_mode=class_mode,  # 'sparse' for multiclass, 'binary' for binary\n",
    "    subset='validation'\n",
    ")"
   ]
  },
  {
   "cell_type": "markdown",
   "id": "3aed8b4b",
   "metadata": {},
   "source": [
    "### Load and compile network"
   ]
  },
  {
   "cell_type": "code",
   "execution_count": 7,
   "id": "b0e67ab1",
   "metadata": {},
   "outputs": [],
   "source": [
    "\"\"\" Callbacks \"\"\"\n",
    "\n",
    "\n",
    "# The EpochSaver callback only saves the base model used, i.e. the encoder/classifier, \n",
    "# without all the distortion layers. Important to keep track training configuration \n",
    "# for reproducibility\n",
    "callbacks = [\n",
    "    cb.EpochSaver(\n",
    "        layer_name=model_base_name, \n",
    "        model_path=os.path.join(model_path, model_base_name), \n",
    "        base_name=model_base_name\n",
    "    ),\n",
    "    tf.keras.callbacks.CSVLogger(\n",
    "        os.path.join(model_path, model_base_name, model_base_name + \".csv\"), \n",
    "        \",\"\n",
    "    )\n",
    "]\n",
    "\n",
    "\n",
    "\n",
    "\"\"\" Metrics and loss function \"\"\"\n",
    "if class_mode == \"binary\":\n",
    "    metrics = [\n",
    "        tf.keras.metrics.BinaryCrossentropy(name=\"bce\"),  # BinaryCrossentropy for binary\n",
    "        tf.keras.metrics.BinaryAccuracy(name=\"acc\")\n",
    "    ]\n",
    "    base_loss = tf.keras.losses.binary_crossentropy\n",
    "    final_layer_node = 1\n",
    "    binary = True\n",
    "    \n",
    "elif class_mode == \"sparse\":\n",
    "    metrics = [\n",
    "        tf.keras.metrics.SparseCategoricalCrossentropy(name=\"sce\"), \n",
    "        tf.keras.metrics.SparseCategoricalAccuracy(name=\"acc\")\n",
    "    ]\n",
    "    base_loss = tf.keras.losses.sparse_categorical_crossentropy\n",
    "    final_layer_node = t_flow.num_classes\n",
    "    binary = False\n",
    "\n",
    "elif class_mode == \"categorical\":\n",
    "    metrics = [\n",
    "        tf.keras.metrics.CategoricalCrossentropy(name=\"cce\"),\n",
    "        tf.keras.metrics.CategoricalAccuracy(name=\"acc\")\n",
    "    ]\n",
    "    base_loss = tf.keras.losses.categorical_crossentropy\n",
    "    final_layer_node = t_flow.num_classes\n",
    "    binary = False\n",
    "    \n",
    "else:\n",
    "    print(\"no class mode provided\")\n",
    "    \n",
    "    \n",
    "base_model = bm.create_thesis_model(tile_size=tile_size, channels=3, final_layer_node=final_layer_node)\n",
    "base_model._name = model_base_name  # name of the layer (i.e. model) we want to save later.\n",
    "\n",
    "i = tf.keras.Input(shape=(tile_size, tile_size, channels))\n",
    "x_i = base_model(i)\n",
    "cst_model = cst.CSTModel(inputs=i, outputs=x_i, alpha=alpha, n_st_components=n_st_components, \n",
    "                         dist_layers=dist_layer, binary=binary)\n",
    "\n",
    "\n",
    "cst_model.compile(\n",
    "    optimizer = tf.keras.optimizers.Adam(learning_rate=1e-3, amsgrad=True),\n",
    "    loss = base_loss,\n",
    "    metrics = metrics,\n",
    ")\n"
   ]
  },
  {
   "cell_type": "code",
   "execution_count": null,
   "id": "3bbb1c7c",
   "metadata": {},
   "outputs": [],
   "source": []
  },
  {
   "cell_type": "markdown",
   "id": "546e1c22",
   "metadata": {},
   "source": [
    "### Train network"
   ]
  },
  {
   "cell_type": "code",
   "execution_count": 8,
   "id": "7d20f0ab",
   "metadata": {
    "scrolled": true
   },
   "outputs": [
    {
     "name": "stdout",
     "output_type": "stream",
     "text": [
      "Epoch 1/10\n"
     ]
    },
    {
     "name": "stderr",
     "output_type": "stream",
     "text": [
      "2023-07-06 15:27:28.774009: I tensorflow/stream_executor/cuda/cuda_dnn.cc:368] Loaded cuDNN version 8100\n",
      "2023-07-06 15:27:29.859926: I tensorflow/stream_executor/cuda/cuda_blas.cc:1786] TensorFloat-32 will be used for the matrix multiplication. This will only be logged once.\n"
     ]
    },
    {
     "name": "stdout",
     "output_type": "stream",
     "text": [
      "19028/19028 [==============================] - ETA: 0s - loss_0: 0.2652 - cst_metric: 0.3590 - sce_: 0.2987 - acc_: 0.8932 - sce_0: 0.3114 - acc_0: 0.8877 - sce_1: 0.2991 - acc_1: 0.8934 - sce_2: 0.3070 - acc_2: 0.8895 - sce_3: 0.3166 - acc_3: 0.8846 - sce_4: 0.3130 - acc_4: 0.8855WARNING:tensorflow:Compiled the loaded model, but the compiled metrics have yet to be built. `model.compile_metrics` will be empty until you train or evaluate the model.\n",
      "class weights saved to path: \n",
      "../models/artifact_classifier_multiCST_teststep_metrics/artifact_classifier_multiCST_teststep_metrics_e1.h5\n",
      "19028/19028 [==============================] - 5608s 294ms/step - loss_0: 0.2652 - cst_metric: 0.3590 - sce_: 0.2987 - acc_: 0.8933 - sce_0: 0.3114 - acc_0: 0.8877 - sce_1: 0.2991 - acc_1: 0.8934 - sce_2: 0.3070 - acc_2: 0.8895 - sce_3: 0.3166 - acc_3: 0.8846 - sce_4: 0.3130 - acc_4: 0.8855 - val_loss_0: 0.4199 - val_cst_metric: 0.3834 - val_sce_: 0.1983 - val_acc_: 0.9307 - val_sce_0: 0.2100 - val_acc_0: 0.9263 - val_sce_1: 0.1986 - val_acc_1: 0.9307 - val_sce_2: 0.2061 - val_acc_2: 0.9275 - val_sce_3: 0.2157 - val_acc_3: 0.9235 - val_sce_4: 0.2077 - val_acc_4: 0.9264\n",
      "Epoch 2/10\n",
      "17705/19028 [==========================>...] - ETA: 5:59 - loss_0: 0.1119 - cst_metric: 0.1205 - sce_: 0.1883 - acc_: 0.9341 - sce_0: 0.1989 - acc_0: 0.9302 - sce_1: 0.1886 - acc_1: 0.9341 - sce_2: 0.1955 - acc_2: 0.9312 - sce_3: 0.2050 - acc_3: 0.9272 - sce_4: 0.1970 - acc_4: 0.9304"
     ]
    }
   ],
   "source": [
    "# cst_model.run_eagerly = False\n",
    "\n",
    "cst_model.fit(\n",
    "    x=t_flow,\n",
    "    validation_data=v_flow,\n",
    "    epochs=epochs,\n",
    "    callbacks=callbacks,\n",
    "    class_weight=bm.get_class_weights(t_flow.classes)\n",
    ")"
   ]
  },
  {
   "cell_type": "code",
   "execution_count": 9,
   "id": "c73e1183",
   "metadata": {},
   "outputs": [],
   "source": [
    "\"\"\"\n",
    "Here we only save the base network we used to encode/predict the input.\n",
    "If we want to save the whole model with all distortion preprocessing and \n",
    "rescale layers, we have to make sure that all custom layers can be saved. \n",
    "Otherwise you may get an error like the following:\n",
    "\n",
    "        Layer RandomColorByChannel has arguments ['self', 'factor']\n",
    "        in `__init__` and therefore must override `get_config()`.\n",
    "\n",
    "        Example:\n",
    "\n",
    "        class CustomLayer(keras.layers.Layer):\n",
    "            def __init__(self, arg1, arg2):\n",
    "                super().__init__()\n",
    "                self.arg1 = arg1\n",
    "                self.arg2 = arg2\n",
    "\n",
    "            def get_config(self):\n",
    "                config = super().get_config()\n",
    "                config.update({\n",
    "                    \"arg1\": self.arg1,\n",
    "                    \"arg2\": self.arg2,\n",
    "                })\n",
    "                return config\n",
    "           \n",
    "           \n",
    "Other error I encountered was the following, apparently due to tf \n",
    "bugs depending on the tf version: \n",
    "\n",
    "        TypeError: Unable to serialize [20.  0. 20.] to JSON. \n",
    "        Unrecognized type <class 'tensorflow.python.framework.ops.EagerTensor'>.\n",
    "\n",
    "\"\"\"\n",
    "trained_path = os.path.append(model_path, model_base_name, model_base_name + \"_final.h5\")\n",
    "cst_model.get_layer(model_base_name).save(trained_path)"
   ]
  },
  {
   "cell_type": "code",
   "execution_count": null,
   "id": "14c48928",
   "metadata": {},
   "outputs": [],
   "source": []
  }
 ],
 "metadata": {
  "kernelspec": {
   "display_name": "Python 3 (ipykernel)",
   "language": "python",
   "name": "python3"
  },
  "language_info": {
   "codemirror_mode": {
    "name": "ipython",
    "version": 3
   },
   "file_extension": ".py",
   "mimetype": "text/x-python",
   "name": "python",
   "nbconvert_exporter": "python",
   "pygments_lexer": "ipython3",
   "version": "3.8.10"
  }
 },
 "nbformat": 4,
 "nbformat_minor": 5
}
