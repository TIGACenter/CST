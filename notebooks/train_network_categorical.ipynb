{
 "cells": [
  {
   "cell_type": "code",
   "execution_count": 1,
   "id": "ab26068e",
   "metadata": {
    "scrolled": true
   },
   "outputs": [],
   "source": [
    "import os\n",
    "import sys\n",
    "sys.path.append(\"..\")\n",
    "\n",
    "import tensorflow as tf\n",
    "\n",
    "import cst_model as cst\n",
    "import distortion_layers as ly\n",
    "import base_models as bm\n",
    "import callbacks as cb\n",
    "\n",
    "# tf.compat.v1.logging.set_verbosity(tf.compat.v1.logging.ERROR) "
   ]
  },
  {
   "cell_type": "code",
   "execution_count": 2,
   "id": "898dbdbf",
   "metadata": {},
   "outputs": [
    {
     "data": {
      "text/plain": [
       "'/main_dir/felipe/projects/CST/notebooks'"
      ]
     },
     "execution_count": 2,
     "metadata": {},
     "output_type": "execute_result"
    }
   ],
   "source": [
    "os.getcwd()"
   ]
  },
  {
   "cell_type": "markdown",
   "id": "8323eb6c",
   "metadata": {},
   "source": [
    "### Parameters\n"
   ]
  },
  {
   "cell_type": "code",
   "execution_count": 3,
   "id": "63768923",
   "metadata": {},
   "outputs": [],
   "source": [
    "# train_path = \"../data\"\n",
    "# train_path = \"/main_dir/felipe/projects/cp_toolbox_data/artifacts_project/training_data/v4\"\n",
    "train_path = \"/main_dir/felipe/projects/cp_toolbox_data/tiles\"\n",
    "model_path = \"../models\"\n",
    "model_base_name = \"test_model\"\n",
    "\n",
    "\n",
    "tile_size = 128\n",
    "batch_size = 32\n",
    "channels = 3\n",
    "n_st_components = 2\n",
    "alpha = 2\n",
    "epochs = 10\n",
    "class_mode = \"sparse\"\n",
    "\n",
    "validation_split = 0.2"
   ]
  },
  {
   "cell_type": "markdown",
   "id": "11e0fb1e",
   "metadata": {},
   "source": [
    "### Load dataset"
   ]
  },
  {
   "cell_type": "code",
   "execution_count": 4,
   "id": "531c76b9",
   "metadata": {},
   "outputs": [],
   "source": [
    "# TODO"
   ]
  },
  {
   "cell_type": "code",
   "execution_count": null,
   "id": "f2cd0d46",
   "metadata": {},
   "outputs": [],
   "source": []
  },
  {
   "cell_type": "code",
   "execution_count": null,
   "id": "947f2cf5",
   "metadata": {},
   "outputs": [],
   "source": []
  },
  {
   "cell_type": "code",
   "execution_count": null,
   "id": "f63e23be",
   "metadata": {},
   "outputs": [],
   "source": []
  },
  {
   "cell_type": "code",
   "execution_count": null,
   "id": "7cffad48",
   "metadata": {},
   "outputs": [],
   "source": []
  },
  {
   "cell_type": "code",
   "execution_count": null,
   "id": "84230ce2",
   "metadata": {},
   "outputs": [],
   "source": []
  },
  {
   "cell_type": "code",
   "execution_count": null,
   "id": "9bcceeea",
   "metadata": {},
   "outputs": [],
   "source": []
  },
  {
   "cell_type": "code",
   "execution_count": null,
   "id": "0360921c",
   "metadata": {},
   "outputs": [],
   "source": []
  },
  {
   "cell_type": "markdown",
   "id": "0eb51f97",
   "metadata": {},
   "source": [
    "### Create distortion layer"
   ]
  },
  {
   "cell_type": "code",
   "execution_count": 5,
   "id": "2ad8c7bb",
   "metadata": {
    "scrolled": true
   },
   "outputs": [
    {
     "name": "stderr",
     "output_type": "stream",
     "text": [
      "2023-07-06 14:23:14.961277: I tensorflow/stream_executor/cuda/cuda_gpu_executor.cc:936] successful NUMA node read from SysFS had negative value (-1), but there must be at least one NUMA node, so returning NUMA node zero\n",
      "2023-07-06 14:23:14.977648: I tensorflow/stream_executor/cuda/cuda_gpu_executor.cc:936] successful NUMA node read from SysFS had negative value (-1), but there must be at least one NUMA node, so returning NUMA node zero\n",
      "2023-07-06 14:23:14.977826: I tensorflow/stream_executor/cuda/cuda_gpu_executor.cc:936] successful NUMA node read from SysFS had negative value (-1), but there must be at least one NUMA node, so returning NUMA node zero\n",
      "2023-07-06 14:23:14.978441: I tensorflow/core/platform/cpu_feature_guard.cc:151] This TensorFlow binary is optimized with oneAPI Deep Neural Network Library (oneDNN) to use the following CPU instructions in performance-critical operations:  AVX2 FMA\n",
      "To enable them in other operations, rebuild TensorFlow with the appropriate compiler flags.\n",
      "2023-07-06 14:23:14.979478: I tensorflow/stream_executor/cuda/cuda_gpu_executor.cc:936] successful NUMA node read from SysFS had negative value (-1), but there must be at least one NUMA node, so returning NUMA node zero\n",
      "2023-07-06 14:23:14.979626: I tensorflow/stream_executor/cuda/cuda_gpu_executor.cc:936] successful NUMA node read from SysFS had negative value (-1), but there must be at least one NUMA node, so returning NUMA node zero\n",
      "2023-07-06 14:23:14.979721: I tensorflow/stream_executor/cuda/cuda_gpu_executor.cc:936] successful NUMA node read from SysFS had negative value (-1), but there must be at least one NUMA node, so returning NUMA node zero\n",
      "2023-07-06 14:23:15.259511: I tensorflow/stream_executor/cuda/cuda_gpu_executor.cc:936] successful NUMA node read from SysFS had negative value (-1), but there must be at least one NUMA node, so returning NUMA node zero\n",
      "2023-07-06 14:23:15.259615: I tensorflow/stream_executor/cuda/cuda_gpu_executor.cc:936] successful NUMA node read from SysFS had negative value (-1), but there must be at least one NUMA node, so returning NUMA node zero\n",
      "2023-07-06 14:23:15.259670: I tensorflow/stream_executor/cuda/cuda_gpu_executor.cc:936] successful NUMA node read from SysFS had negative value (-1), but there must be at least one NUMA node, so returning NUMA node zero\n",
      "2023-07-06 14:23:15.259729: I tensorflow/core/common_runtime/gpu/gpu_device.cc:1525] Created device /job:localhost/replica:0/task:0/device:GPU:0 with 6122 MB memory:  -> device: 0, name: NVIDIA GeForce RTX 3070, pci bus id: 0000:01:00.0, compute capability: 8.6\n"
     ]
    }
   ],
   "source": [
    "dcs = {\n",
    "    \"contrast\": {\"factor\": [0.2, 0.2]},\n",
    "    \"color\": {\"factor\": [20,0,20]},\n",
    "    \"blur\": {\"filter_shape\": 2, \"sigma\": 5.},  # kernel size is 'filter_shape * 2 + 1'\n",
    "    \"brightness\": {\"lower\": .85, \"upper\":1.15}\n",
    "}\n",
    "\n",
    "layers = [\n",
    "    ly.RandomColorByChannel(**dcs[\"color\"]), \n",
    "    tf.keras.layers.RandomContrast(**dcs[\"contrast\"]),\n",
    "    ly.RandomBrightness(**dcs[\"brightness\"]),\n",
    "    ly.RandomGaussianBlur(**dcs[\"blur\"]),\n",
    "    ly.BlueRedChannelSwapLayer(),\n",
    "]\n",
    "\n",
    "\n",
    "# dist_layer = [AdjSaturation(10),\n",
    "#               tf.keras.layers.Lambda(lambda x: x * 0. + 55)]\n",
    "\n",
    "dist_layer = layers\n",
    "\n"
   ]
  },
  {
   "cell_type": "markdown",
   "id": "52430c99",
   "metadata": {},
   "source": [
    "### Load images and assign parameters"
   ]
  },
  {
   "cell_type": "code",
   "execution_count": 6,
   "id": "62577f8f",
   "metadata": {},
   "outputs": [
    {
     "name": "stdout",
     "output_type": "stream",
     "text": [
      "Found 124 images belonging to 3 classes.\n",
      "Found 29 images belonging to 3 classes.\n"
     ]
    }
   ],
   "source": [
    "gen = tf.keras.preprocessing.image.ImageDataGenerator(\n",
    "    validation_split = validation_split\n",
    ")\n",
    "\n",
    "t_flow = gen.flow_from_directory(\n",
    "    directory=train_path,\n",
    "    target_size=(tile_size,tile_size),\n",
    "    color_mode='rgb',  # rgb for color\n",
    "    batch_size=batch_size,\n",
    "    class_mode=class_mode,  # 'sparse' for multiclass, 'binary' for binary \n",
    "    subset='training'\n",
    ")\n",
    "\n",
    "v_flow = gen.flow_from_directory(\n",
    "    directory=train_path,\n",
    "    target_size=(tile_size,tile_size),\n",
    "    color_mode=\"rgb\",  # rgb for color\n",
    "    batch_size=batch_size,\n",
    "    shuffle=False,\n",
    "    class_mode=class_mode,  # 'sparse' for multiclass, 'binary' for binary\n",
    "    subset='validation'\n",
    ")"
   ]
  },
  {
   "cell_type": "markdown",
   "id": "3aed8b4b",
   "metadata": {},
   "source": [
    "### Load and compile network"
   ]
  },
  {
   "cell_type": "code",
   "execution_count": 11,
   "id": "b0e67ab1",
   "metadata": {},
   "outputs": [],
   "source": [
    "\"\"\" Callbacks \"\"\"\n",
    "callbacks = [\n",
    "    cb.EpochSaver(\n",
    "        layer_name=model_base_name, \n",
    "        model_path=os.path.join(model_path, model_base_name), \n",
    "        base_name=model_base_name\n",
    "    ),\n",
    "    tf.keras.callbacks.CSVLogger(\n",
    "        os.path.join(model_path, model_base_name, model_base_name + \".csv\"), \n",
    "        \",\"\n",
    "    )\n",
    "]\n",
    "\n",
    "\n",
    "\n",
    "\"\"\" Metrics and loss function \"\"\"\n",
    "if class_mode == \"binary\":\n",
    "    metrics = [\n",
    "        tf.keras.metrics.BinaryCrossentropy(name=\"bce\"),  # BinaryCrossentropy for binary\n",
    "        tf.keras.metrics.BinaryAccuracy(name=\"acc\")\n",
    "    ]\n",
    "    base_loss = tf.keras.losses.binary_crossentropy\n",
    "    final_layer_node = 1\n",
    "    binary = True\n",
    "    \n",
    "elif class_mode == \"sparse\":\n",
    "    metrics = [\n",
    "        tf.keras.metrics.SparseCategoricalCrossentropy(name=\"sce\"), \n",
    "        tf.keras.metrics.SparseCategoricalAccuracy(name=\"acc\")\n",
    "    ]\n",
    "    base_loss = tf.keras.losses.sparse_categorical_crossentropy\n",
    "    final_layer_node = t_flow.num_classes\n",
    "    binary = False\n",
    "\n",
    "elif class_mode == \"categorical\":\n",
    "    metrics = [\n",
    "        tf.keras.metrics.CategoricalCrossentropy(name=\"cce\"),\n",
    "        tf.keras.metrics.CategoricalAccuracy(name=\"acc\")\n",
    "    ]\n",
    "    base_loss = tf.keras.losses.categorical_crossentropy\n",
    "    final_layer_node = t_flow.num_classes\n",
    "    binary = False\n",
    "    \n",
    "else:\n",
    "    print(\"no class mode provided\")\n",
    "    \n",
    "    \n",
    "base_model = bm.create_thesis_model(tile_size=tile_size, channels=3, final_layer_node=final_layer_node)\n",
    "base_model._name = model_base_name  # name of the layer (i.e. model) we want to save later.\n",
    "\n",
    "i = tf.keras.Input(shape=(tile_size, tile_size, channels))\n",
    "x_i = base_model(i)\n",
    "cst_model = cst.CSTModel(inputs=i, outputs=x_i, alpha=alpha, n_st_components=n_st_components, \n",
    "                         dist_layers=dist_layer, binary=binary)\n",
    "\n",
    "\n",
    "cst_model.compile(\n",
    "    optimizer = tf.keras.optimizers.Adam(learning_rate=1e-3, amsgrad=True),\n",
    "    loss = base_loss,\n",
    "    metrics = metrics,\n",
    ")\n"
   ]
  },
  {
   "cell_type": "code",
   "execution_count": null,
   "id": "3bbb1c7c",
   "metadata": {},
   "outputs": [],
   "source": []
  },
  {
   "cell_type": "markdown",
   "id": "546e1c22",
   "metadata": {},
   "source": [
    "### Train network"
   ]
  },
  {
   "cell_type": "code",
   "execution_count": 12,
   "id": "7d20f0ab",
   "metadata": {
    "scrolled": true
   },
   "outputs": [
    {
     "name": "stdout",
     "output_type": "stream",
     "text": [
      "Epoch 1/10\n",
      "4/4 [==============================] - ETA: 0s - loss_0: 1.6427 - cst_metric: 1.6441 - sce_: 1.1441 - acc_: 0.3968 - sce_0: 1.2024 - acc_0: 0.4104 - sce_1: 1.1788 - acc_1: 0.4202 - sce_2: 1.2181 - acc_2: 0.3920 - sce_3: 1.1900 - acc_3: 0.5170 - sce_4: 1.1103 - acc_4: 0.4496WARNING:tensorflow:Compiled the loaded model, but the compiled metrics have yet to be built. `model.compile_metrics` will be empty until you train or evaluate the model.\n",
      "class weights saved to path: \n",
      "../models/test_model/test_model_e1.h5\n",
      "4/4 [==============================] - 17s 557ms/step - loss_0: 1.6035 - cst_metric: 1.6052 - sce_: 1.1407 - acc_: 0.3989 - sce_0: 1.1977 - acc_0: 0.4107 - sce_1: 1.1732 - acc_1: 0.4213 - sce_2: 1.2103 - acc_2: 0.3935 - sce_3: 1.1816 - acc_3: 0.5124 - sce_4: 1.1094 - acc_4: 0.4463 - val_sce: 1.1811 - val_acc: 0.4057\n",
      "Epoch 2/10\n",
      "4/4 [==============================] - ETA: 0s - loss_0: 1.1394 - cst_metric: 1.1168 - sce_: 1.2241 - acc_: 0.4063 - sce_0: 1.1624 - acc_0: 0.4122 - sce_1: 1.1375 - acc_1: 0.4272 - sce_2: 1.1598 - acc_2: 0.4068 - sce_3: 1.1406 - acc_3: 0.4701 - sce_4: 1.1086 - acc_4: 0.4156WARNING:tensorflow:Compiled the loaded model, but the compiled metrics have yet to be built. `model.compile_metrics` will be empty until you train or evaluate the model.\n",
      "class weights saved to path: \n",
      "../models/test_model/test_model_e2.h5\n",
      "4/4 [==============================] - 1s 352ms/step - loss_0: 1.1397 - cst_metric: 1.1216 - sce_: 1.2264 - acc_: 0.4063 - sce_0: 1.1612 - acc_0: 0.4121 - sce_1: 1.1368 - acc_1: 0.4270 - sce_2: 1.1585 - acc_2: 0.4070 - sce_3: 1.1403 - acc_3: 0.4676 - sce_4: 1.1092 - acc_4: 0.4140 - val_sce: 1.2479 - val_acc: 0.4062\n",
      "Epoch 3/10\n",
      "4/4 [==============================] - ETA: 0s - loss_0: 0.8990 - cst_metric: 0.8886 - sce_: 1.2538 - acc_: 0.4121 - sce_0: 1.1376 - acc_0: 0.4219 - sce_1: 1.1176 - acc_1: 0.4334 - sce_2: 1.1342 - acc_2: 0.4182 - sce_3: 1.1258 - acc_3: 0.4552 - sce_4: 1.1027 - acc_4: 0.4095WARNING:tensorflow:Compiled the loaded model, but the compiled metrics have yet to be built. `model.compile_metrics` will be empty until you train or evaluate the model.\n",
      "class weights saved to path: \n",
      "../models/test_model/test_model_e3.h5\n",
      "4/4 [==============================] - 1s 337ms/step - loss_0: 0.9065 - cst_metric: 0.8939 - sce_: 1.2535 - acc_: 0.4128 - sce_0: 1.1353 - acc_0: 0.4231 - sce_1: 1.1157 - acc_1: 0.4341 - sce_2: 1.1320 - acc_2: 0.4193 - sce_3: 1.1240 - acc_3: 0.4551 - sce_4: 1.1014 - acc_4: 0.4099 - val_sce: 1.2539 - val_acc: 0.4173\n",
      "Epoch 4/10\n",
      "4/4 [==============================] - ETA: 0s - loss_0: 0.7448 - cst_metric: 0.7418 - sce_: 1.2480 - acc_: 0.4232 - sce_0: 1.1059 - acc_0: 0.4363 - sce_1: 1.0887 - acc_1: 0.4447 - sce_2: 1.1023 - acc_2: 0.4325 - sce_3: 1.0997 - acc_3: 0.4556 - sce_4: 1.0811 - acc_4: 0.4156WARNING:tensorflow:Compiled the loaded model, but the compiled metrics have yet to be built. `model.compile_metrics` will be empty until you train or evaluate the model.\n",
      "class weights saved to path: \n",
      "../models/test_model/test_model_e4.h5\n",
      "4/4 [==============================] - 1s 349ms/step - loss_0: 0.7493 - cst_metric: 0.7442 - sce_: 1.2467 - acc_: 0.4239 - sce_0: 1.1034 - acc_0: 0.4373 - sce_1: 1.0864 - acc_1: 0.4456 - sce_2: 1.0998 - acc_2: 0.4335 - sce_3: 1.0975 - acc_3: 0.4558 - sce_4: 1.0791 - acc_4: 0.4162 - val_sce: 1.2375 - val_acc: 0.4288\n",
      "Epoch 5/10\n",
      "4/4 [==============================] - ETA: 0s - loss_0: 0.6273 - cst_metric: 0.6266 - sce_: 1.2232 - acc_: 0.4347 - sce_0: 1.0715 - acc_0: 0.4503 - sce_1: 1.0559 - acc_1: 0.4572 - sce_2: 1.0676 - acc_2: 0.4461 - sce_3: 1.0685 - acc_3: 0.4603 - sce_4: 1.0522 - acc_4: 0.4259WARNING:tensorflow:Compiled the loaded model, but the compiled metrics have yet to be built. `model.compile_metrics` will be empty until you train or evaluate the model.\n",
      "class weights saved to path: \n",
      "../models/test_model/test_model_e5.h5\n",
      "4/4 [==============================] - 1s 355ms/step - loss_0: 0.6338 - cst_metric: 0.6266 - sce_: 1.2213 - acc_: 0.4355 - sce_0: 1.0689 - acc_0: 0.4513 - sce_1: 1.0534 - acc_1: 0.4581 - sce_2: 1.0650 - acc_2: 0.4471 - sce_3: 1.0661 - acc_3: 0.4608 - sce_4: 1.0500 - acc_4: 0.4268 - val_sce: 1.2079 - val_acc: 0.4405\n",
      "Epoch 6/10\n",
      "4/4 [==============================] - ETA: 0s - loss_0: 0.6120 - cst_metric: 0.6128 - sce_: 1.1920 - acc_: 0.4455 - sce_0: 1.0385 - acc_0: 0.4625 - sce_1: 1.0241 - acc_1: 0.4681 - sce_2: 1.0344 - acc_2: 0.4581 - sce_3: 1.0372 - acc_3: 0.4672 - sce_4: 1.0226 - acc_4: 0.4369WARNING:tensorflow:Compiled the loaded model, but the compiled metrics have yet to be built. `model.compile_metrics` will be empty until you train or evaluate the model.\n",
      "class weights saved to path: \n",
      "../models/test_model/test_model_e6.h5\n",
      "4/4 [==============================] - 1s 340ms/step - loss_0: 0.6117 - cst_metric: 0.6131 - sce_: 1.1900 - acc_: 0.4461 - sce_0: 1.0362 - acc_0: 0.4634 - sce_1: 1.0218 - acc_1: 0.4688 - sce_2: 1.0320 - acc_2: 0.4589 - sce_3: 1.0349 - acc_3: 0.4677 - sce_4: 1.0205 - acc_4: 0.4377 - val_sce: 1.1763 - val_acc: 0.4503\n",
      "Epoch 7/10\n",
      "4/4 [==============================] - ETA: 0s - loss_0: 0.6057 - cst_metric: 0.5932 - sce_: 1.1615 - acc_: 0.4547 - sce_0: 1.0085 - acc_0: 0.4730 - sce_1: 0.9951 - acc_1: 0.4776 - sce_2: 1.0043 - acc_2: 0.4683 - sce_3: 1.0080 - acc_3: 0.4742 - sce_4: 0.9950 - acc_4: 0.4473WARNING:tensorflow:Compiled the loaded model, but the compiled metrics have yet to be built. `model.compile_metrics` will be empty until you train or evaluate the model.\n",
      "class weights saved to path: \n",
      "../models/test_model/test_model_e7.h5\n",
      "4/4 [==============================] - 1s 338ms/step - loss_0: 0.6048 - cst_metric: 0.5958 - sce_: 1.1597 - acc_: 0.4553 - sce_0: 1.0064 - acc_0: 0.4737 - sce_1: 0.9931 - acc_1: 0.4783 - sce_2: 1.0023 - acc_2: 0.4691 - sce_3: 1.0060 - acc_3: 0.4748 - sce_4: 0.9930 - acc_4: 0.4481 - val_sce: 1.1468 - val_acc: 0.4591\n",
      "Epoch 8/10\n",
      "4/4 [==============================] - ETA: 0s - loss_0: 0.5727 - cst_metric: 0.5585 - sce_: 1.1325 - acc_: 0.4632 - sce_0: 0.9816 - acc_0: 0.4822 - sce_1: 0.9691 - acc_1: 0.4862 - sce_2: 0.9775 - acc_2: 0.4776 - sce_3: 0.9817 - acc_3: 0.4812 - sce_4: 0.9699 - acc_4: 0.4570WARNING:tensorflow:Compiled the loaded model, but the compiled metrics have yet to be built. `model.compile_metrics` will be empty until you train or evaluate the model.\n",
      "class weights saved to path: \n",
      "../models/test_model/test_model_e8.h5\n",
      "4/4 [==============================] - 1s 339ms/step - loss_0: 0.5777 - cst_metric: 0.5626 - sce_: 1.1308 - acc_: 0.4637 - sce_0: 0.9797 - acc_0: 0.4828 - sce_1: 0.9673 - acc_1: 0.4868 - sce_2: 0.9757 - acc_2: 0.4783 - sce_3: 0.9798 - acc_3: 0.4817 - sce_4: 0.9681 - acc_4: 0.4577 - val_sce: 1.1187 - val_acc: 0.4671\n",
      "Epoch 9/10\n",
      "4/4 [==============================] - ETA: 0s - loss_0: 0.5543 - cst_metric: 0.5413 - sce_: 1.1056 - acc_: 0.4709 - sce_0: 0.9577 - acc_0: 0.4903 - sce_1: 0.9461 - acc_1: 0.4939 - sce_2: 0.9538 - acc_2: 0.4859 - sce_3: 0.9581 - acc_3: 0.4877 - sce_4: 0.9474 - acc_4: 0.4656WARNING:tensorflow:Compiled the loaded model, but the compiled metrics have yet to be built. `model.compile_metrics` will be empty until you train or evaluate the model.\n",
      "class weights saved to path: \n",
      "../models/test_model/test_model_e9.h5\n",
      "4/4 [==============================] - 1s 349ms/step - loss_0: 0.5605 - cst_metric: 0.5442 - sce_: 1.1040 - acc_: 0.4713 - sce_0: 0.9560 - acc_0: 0.4908 - sce_1: 0.9445 - acc_1: 0.4945 - sce_2: 0.9521 - acc_2: 0.4865 - sce_3: 0.9565 - acc_3: 0.4881 - sce_4: 0.9458 - acc_4: 0.4662 - val_sce: 1.0937 - val_acc: 0.4745\n",
      "Epoch 10/10\n",
      "4/4 [==============================] - ETA: 0s - loss_0: 0.5606 - cst_metric: 0.5634 - sce_: 1.0833 - acc_: 0.4779 - sce_0: 0.9365 - acc_0: 0.4974 - sce_1: 0.9256 - acc_1: 0.5009 - sce_2: 0.9328 - acc_2: 0.4934 - sce_3: 0.9372 - acc_3: 0.4936 - sce_4: 0.9273 - acc_4: 0.4732WARNING:tensorflow:Compiled the loaded model, but the compiled metrics have yet to be built. `model.compile_metrics` will be empty until you train or evaluate the model.\n",
      "class weights saved to path: \n",
      "../models/test_model/test_model_e10.h5\n",
      "4/4 [==============================] - 1s 347ms/step - loss_0: 0.5623 - cst_metric: 0.5655 - sce_: 1.0821 - acc_: 0.4783 - sce_0: 0.9350 - acc_0: 0.4979 - sce_1: 0.9242 - acc_1: 0.5013 - sce_2: 0.9313 - acc_2: 0.4939 - sce_3: 0.9357 - acc_3: 0.4940 - sce_4: 0.9259 - acc_4: 0.4737 - val_sce: 1.0740 - val_acc: 0.4811\n"
     ]
    },
    {
     "data": {
      "text/plain": [
       "<keras.callbacks.History at 0x7efbcc3dba30>"
      ]
     },
     "execution_count": 12,
     "metadata": {},
     "output_type": "execute_result"
    }
   ],
   "source": [
    "# cst_model.run_eagerly = False\n",
    "\n",
    "cst_model.fit(\n",
    "    x=t_flow,\n",
    "    validation_data=v_flow,\n",
    "    epochs=epochs,\n",
    "    callbacks=callbacks,\n",
    "    class_weight=bm.get_class_weights(t_flow.classes)\n",
    ")"
   ]
  },
  {
   "cell_type": "code",
   "execution_count": 8,
   "id": "c73e1183",
   "metadata": {},
   "outputs": [
    {
     "name": "stdout",
     "output_type": "stream",
     "text": [
      "WARNING:tensorflow:Compiled the loaded model, but the compiled metrics have yet to be built. `model.compile_metrics` will be empty until you train or evaluate the model.\n"
     ]
    }
   ],
   "source": [
    "\"\"\"\n",
    "Here we only save the base network we used to encode/predict the input.\n",
    "If we want to save the whole model with all distortion preprocessing and \n",
    "rescale layers, we have to make sure that all custom layers can be saved. \n",
    "Otherwise you may get an error like the following:\n",
    "\n",
    "        Layer RandomColorByChannel has arguments ['self', 'factor']\n",
    "        in `__init__` and therefore must override `get_config()`.\n",
    "\n",
    "        Example:\n",
    "\n",
    "        class CustomLayer(keras.layers.Layer):\n",
    "            def __init__(self, arg1, arg2):\n",
    "                super().__init__()\n",
    "                self.arg1 = arg1\n",
    "                self.arg2 = arg2\n",
    "\n",
    "            def get_config(self):\n",
    "                config = super().get_config()\n",
    "                config.update({\n",
    "                    \"arg1\": self.arg1,\n",
    "                    \"arg2\": self.arg2,\n",
    "                })\n",
    "                return config\n",
    "           \n",
    "           \n",
    "Other error I encountered was the following, apparently due to tf \n",
    "bugs depending on the tf version: \n",
    "\n",
    "        TypeError: Unable to serialize [20.  0. 20.] to JSON. \n",
    "        Unrecognized type <class 'tensorflow.python.framework.ops.EagerTensor'>.\n",
    "\n",
    "\"\"\"\n",
    "\n",
    "cst_model.get_layer(model_base_name).save(\"../models/whatever.h5\")"
   ]
  },
  {
   "cell_type": "code",
   "execution_count": null,
   "id": "14c48928",
   "metadata": {},
   "outputs": [],
   "source": []
  }
 ],
 "metadata": {
  "kernelspec": {
   "display_name": "Python 3 (ipykernel)",
   "language": "python",
   "name": "python3"
  },
  "language_info": {
   "codemirror_mode": {
    "name": "ipython",
    "version": 3
   },
   "file_extension": ".py",
   "mimetype": "text/x-python",
   "name": "python",
   "nbconvert_exporter": "python",
   "pygments_lexer": "ipython3",
   "version": "3.8.10"
  }
 },
 "nbformat": 4,
 "nbformat_minor": 5
}
